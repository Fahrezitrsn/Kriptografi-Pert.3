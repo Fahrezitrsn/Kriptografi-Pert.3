{
  "nbformat": 4,
  "nbformat_minor": 0,
  "metadata": {
    "colab": {
      "provenance": [],
      "authorship_tag": "ABX9TyOKz3zpeL0NkvIj32PU5Xas",
      "include_colab_link": true
    },
    "kernelspec": {
      "name": "python3",
      "display_name": "Python 3"
    },
    "language_info": {
      "name": "python"
    }
  },
  "cells": [
    {
      "cell_type": "markdown",
      "metadata": {
        "id": "view-in-github",
        "colab_type": "text"
      },
      "source": [
        "<a href=\"https://colab.research.google.com/github/Fahrezitrsn/Kriptografi-Pert.3/blob/main/Tugas_Pert_3_Fahrezi_Tresno_N.ipynb\" target=\"_parent\"><img src=\"https://colab.research.google.com/assets/colab-badge.svg\" alt=\"Open In Colab\"/></a>"
      ]
    },
    {
      "cell_type": "code",
      "execution_count": 5,
      "metadata": {
        "colab": {
          "base_uri": "https://localhost:8080/"
        },
        "id": "FqzGKyAeKtex",
        "outputId": "43efa9f1-4c52-4def-c32b-f602bad16cf2"
      },
      "outputs": [
        {
          "output_type": "stream",
          "name": "stdout",
          "text": [
            "Username: fahrezi\n",
            "Password: 1234\n",
            "Login berhasil\n"
          ]
        }
      ],
      "source": [
        "import random\n",
        "import string\n",
        "\n",
        "def generate_vigenere_key(length):\n",
        "    return ''.join(random.choice(string.ascii_lowercase) for _ in range(length))\n",
        "def vigenere_encrypt(plain_text, key):\n",
        "    encrypted_text = ''\n",
        "    key_length = len(key)\n",
        "\n",
        "    for i in range(len(plain_text)):\n",
        "        char = plain_text[i]\n",
        "        if char.isalpha():\n",
        "            key_char = key[i % key_length]\n",
        "            shift = ord(key_char) - ord('a')\n",
        "            if char.isupper():\n",
        "                encrypted_char = chr(((ord(char) - ord('A') + shift) % 26) + ord('A'))\n",
        "            else:\n",
        "                encrypted_char = chr(((ord(char) - ord('a') + shift) % 26) + ord('a'))\n",
        "            encrypted_text += encrypted_char\n",
        "        else:\n",
        "            encrypted_text += char\n",
        "\n",
        "    return encrypted_text\n",
        "def vigenere_decrypt(encrypted_text, key):\n",
        "    decrypted_text = ''\n",
        "    key_length = len(key)\n",
        "\n",
        "    for i in range(len(encrypted_text)):\n",
        "        char = encrypted_text[i]\n",
        "        if char.isalpha():\n",
        "            key_char = key[i % key_length]\n",
        "            shift = ord(key_char) - ord('a')\n",
        "            if char.isupper():\n",
        "                decrypted_char = chr(((ord(char) - ord('A') - shift + 26) % 26) + ord('A'))\n",
        "            else:\n",
        "                decrypted_char = chr(((ord(char) - ord('a') - shift + 26) % 26) + ord('a'))\n",
        "            decrypted_text += decrypted_char\n",
        "        else:\n",
        "            decrypted_text += char\n",
        "\n",
        "    return decrypted_text\n",
        "# Membuat kunci Vigenere\n",
        "key = generate_vigenere_key(8)\n",
        "\n",
        "# Data pengguna\n",
        "username = \"fahrezi\"\n",
        "password = \"1234\"\n",
        "\n",
        "# Enkripsi password\n",
        "encrypted_password = vigenere_encrypt(password, key)\n",
        "\n",
        "# Simpan password terenkripsi di database\n",
        "\n",
        "# Proses login\n",
        "input_username = input(\"Username: \")\n",
        "input_password = input(\"Password: \")\n",
        "\n",
        "# Mengambil kunci Vigenere dari database berdasarkan username\n",
        "\n",
        "# Mendekripsi password terenkripsi dari database dengan kunci yang sesuai\n",
        "decrypted_password = vigenere_decrypt(encrypted_password, key)\n",
        "\n",
        "if input_username == username and input_password == decrypted_password:\n",
        "    print(\"Login berhasil\")\n",
        "else:\n",
        "    print(\"Login gagal\")\n"
      ]
    }
  ]
}